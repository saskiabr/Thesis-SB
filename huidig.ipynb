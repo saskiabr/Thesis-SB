{
  "nbformat": 4,
  "nbformat_minor": 0,
  "metadata": {
    "colab": {
      "provenance": [],
      "authorship_tag": "ABX9TyOHI5NY9kbkJ5qQvIRRD51G",
      "include_colab_link": true
    },
    "kernelspec": {
      "name": "python3",
      "display_name": "Python 3"
    },
    "language_info": {
      "name": "python"
    }
  },
  "cells": [
    {
      "cell_type": "markdown",
      "metadata": {
        "id": "view-in-github",
        "colab_type": "text"
      },
      "source": [
        "<a href=\"https://colab.research.google.com/github/saskiabr/Thesis-SB/blob/main/huidig.ipynb\" target=\"_parent\"><img src=\"https://colab.research.google.com/assets/colab-badge.svg\" alt=\"Open In Colab\"/></a>"
      ]
    },
    {
      "cell_type": "markdown",
      "source": [
        "## Connect to ChatGPT"
      ],
      "metadata": {
        "id": "eKDnfDvLAyjz"
      }
    },
    {
      "cell_type": "code",
      "source": [
        "import openai\n",
        "from openai import OpenAI\n",
        "from google.colab import userdata\n",
        "\n",
        "client = OpenAI(\n",
        "    api_key = userdata.get('OPENAI_API_KEY')\n",
        ",\n",
        ")"
      ],
      "metadata": {
        "id": "M4-n8Z54mgrM"
      },
      "execution_count": null,
      "outputs": []
    },
    {
      "cell_type": "markdown",
      "source": [
        "## Upload necessary files\n",
        "\n",
        "These are the files the assistant should always have on hand. I.e.:\n",
        "1. The JSON file specifying the report structure\n",
        "2. The file with the results of the questionnaires\n",
        "3. The ontology"
      ],
      "metadata": {
        "id": "Qd3pdjYPA3In"
      }
    },
    {
      "cell_type": "code",
      "source": [
        "questionnaire = client.files.create(\n",
        "    file=open(\"questionnaire.xlsx\", \"rb\"),\n",
        "    purpose='assistants',\n",
        ")"
      ],
      "metadata": {
        "id": "S1Z44nQSZlL7"
      },
      "execution_count": null,
      "outputs": []
    },
    {
      "cell_type": "code",
      "source": [
        "json = client.files.create(\n",
        "    file=open(\"rep_struct_shots.json\", \"rb\"),\n",
        "    purpose='assistants',\n",
        ")"
      ],
      "metadata": {
        "id": "AqXZOmECaM3b"
      },
      "execution_count": null,
      "outputs": []
    },
    {
      "cell_type": "code",
      "source": [
        "ontology = client.files.create(\n",
        "    file=open(\"onto.xml\", \"rb\"),\n",
        "    purpose='assistants',\n",
        ")"
      ],
      "metadata": {
        "id": "T01NSPNvEYUW"
      },
      "execution_count": null,
      "outputs": []
    },
    {
      "cell_type": "markdown",
      "source": [
        "## Create an assistant"
      ],
      "metadata": {
        "id": "ez1OahEeA6At"
      }
    },
    {
      "cell_type": "code",
      "execution_count": null,
      "metadata": {
        "id": "x4nHUtM6LE1M"
      },
      "outputs": [],
      "source": [
        "assistant = client.beta.assistants.create(\n",
        "  name=\"Anesthesiologist helper\",\n",
        "  instructions=f\"Imagine you are an anesthesiologist at the University Medical Center of Utrecht. Consider the context: when patients are scheduled for surgery, they will first fill in a general health questionnaire, and then have a preoperative screening session with another anesthesiologist. After such a preoperative screening session, a transcript will be created.\\n You are provided three files (files are in Dutch): \\n1. An excel file containing the results of the general health questionnaire filled in by all patients ({questionnaire.id}). \\n2. A JSON file containing the required structure of medical reports ({json.id}). \\n3. An ontology file containing relevant medical information (ontology is in RDF/XML format)({ontology.id}).\\nWhen the user provides you with a transcript, please create a Dutch medical report for it using the structure specified in the JSON file. Important: use the structure exactly: no additional fields may be added; if no information can be found the field must be left empty. The medical ontology can be used to inform the answers to questions in the report. Only consider the information provided in the transcript or provided by the patient in their answers to the general health questionnaire when creating the report. Consider that the report is used for communication between doctors who use abbreviations, keywords and short sentences.\",\n",
        "  model=\"gpt-4o\",\n",
        "  tools=[{\"type\": \"code_interpreter\"}],\n",
        "  tool_resources={\n",
        "    \"code_interpreter\": {\n",
        "      \"file_ids\": [json.id, questionnaire.id, ontology.id]\n",
        "    }\n",
        "  }\n",
        ")"
      ]
    },
    {
      "cell_type": "markdown",
      "source": [
        "## Send a message to ChatGPT"
      ],
      "metadata": {
        "id": "N3Bj0Xd6A955"
      }
    },
    {
      "cell_type": "markdown",
      "source": [
        "Before sending messages, add the files needed for the message to the assistant. (i.e. the transcript)"
      ],
      "metadata": {
        "id": "k24B0MkcEOEb"
      }
    },
    {
      "cell_type": "code",
      "source": [
        "# transcript\n",
        "\n",
        "transcript = client.files.create(\n",
        "    file=open(\"Patient_224.txt\", \"rb\"),\n",
        "    purpose='assistants',\n",
        ")"
      ],
      "metadata": {
        "id": "7qM5CI8XEWHp"
      },
      "execution_count": null,
      "outputs": []
    },
    {
      "cell_type": "code",
      "source": [
        "thread = client.beta.threads.create(\n",
        "  messages=[\n",
        "    {\n",
        "      \"role\": \"user\",\n",
        "      \"content\": f\"Create a medical report based on this transcript text file of the conversation with patient 224 ({transcript.id}). Use the results of the questionnaire of patient 224 (found in column “Opname”). Do not log intermediate steps. Only return the final structured medical report.\",\n",
        "      \"attachments\": [\n",
        "        {\n",
        "          \"file_id\": transcript.id,\n",
        "          \"tools\": [{\"type\": \"code_interpreter\"}]\n",
        "        }\n",
        "      ]\n",
        "    }\n",
        "  ]\n",
        ")"
      ],
      "metadata": {
        "id": "u25VeHB8Nvcj"
      },
      "execution_count": null,
      "outputs": []
    },
    {
      "cell_type": "markdown",
      "source": [
        "Please return the generated medical report as an excel file. Do not log intermediate steps. Only return the final structured medical report.\","
      ],
      "metadata": {
        "id": "DnGsD6rtnnlI"
      }
    },
    {
      "cell_type": "markdown",
      "source": [
        "## Create a run"
      ],
      "metadata": {
        "id": "zEYadIHKBC6_"
      }
    },
    {
      "cell_type": "markdown",
      "source": [
        "12000 woorden in mijn JSON file = 16000 tokens = 8 cent per run\n",
        "\n",
        "volgens GPT 1000 tokens ong 750 w"
      ],
      "metadata": {
        "id": "A8bJfrrizQzE"
      }
    },
    {
      "cell_type": "code",
      "source": [
        "# Create a run (asynchronous)\n",
        "messages = list()\n",
        "\n",
        "run = client.beta.threads.runs.create_and_poll(\n",
        "  thread_id=thread.id,\n",
        "  assistant_id=assistant.id#,\n",
        "  # temperature=0,\n",
        "  # max_prompt_tokens=20000,\n",
        "  # max_completion_tokens=5000\n",
        ")\n",
        "\n",
        "if run.status == 'completed':\n",
        "  new_messages = client.beta.threads.messages.list(\n",
        "    thread_id=thread.id\n",
        "  )\n",
        "  messages=new_messages\n",
        "else:\n",
        "  print(run.status)"
      ],
      "metadata": {
        "id": "rY2aY5zTNxb-"
      },
      "execution_count": null,
      "outputs": []
    },
    {
      "cell_type": "code",
      "source": [
        "for message in messages:\n",
        "    if message.role == \"assistant\":\n",
        "        print(\"Answer: \",message.content[0].text.value)  # Print only the assistant's response"
      ],
      "metadata": {
        "colab": {
          "base_uri": "https://localhost:8080/"
        },
        "id": "v5hm5M8NYsJM",
        "outputId": "d471db3a-a27a-4cb0-a316-dd745fdfed75"
      },
      "execution_count": null,
      "outputs": [
        {
          "output_type": "stream",
          "name": "stdout",
          "text": [
            "Answer:  ```json\n",
            "{\n",
            "    \"Opname\": \"Patient 224\",\n",
            "    \"Type consult\": \"fysiek\",\n",
            "    \"Hoofdverrichting\": \"niet gespecificeerd\",\n",
            "    \"Allergieën\": \"\",\n",
            "    \"Medicatie\": \"\",\n",
            "    \"Roken\": \"nee\",\n",
            "    \"Alcohol\": \"ja\",\n",
            "    \"Drugs\": \"nee\",\n",
            "    \"Cardiale voorgeschiedenis\": \"cardiaal blanco\",\n",
            "    \"Pulmonaal\": \"geen bijzonderheden\",\n",
            "    \"Nierfunctie\": \"normaal\",\n",
            "    \"Leverfunctie\": \"normaal\",\n",
            "    \"Diabetes\": \"nee\",\n",
            "    \"Neurologisch\": \"geen bijzonderheden\",\n",
            "    \"Psychiatrisch\": \"geen bijzonderheden\",\n",
            "    \"Infectieus\": \"geen bijzonderheden\",\n",
            "    \"Hematologisch\": \"geen bijzonderheden\",\n",
            "    \"Endocrien\": \"geen bijzonderheden\",\n",
            "    \"Reumatologisch\": \"geen bijzonderheden\",\n",
            "    \"Gastro-intestinaal\": \"geen bijzonderheden\",\n",
            "    \"Overig\": \"geen bijzonderheden\",\n",
            "    \"Voorgeschiedenis\": \"geen bijzonderheden\",\n",
            "    \"Lichamelijk onderzoek\": \"geen bijzonderheden\",\n",
            "    \"Auscultatie hart\": \"normaal\",\n",
            "    \"Auscultatie longen\": \"normaal\",\n",
            "    \"Carotiden\": \"geen souffle\",\n",
            "    \"Craniofaciale abnormaliteiten\": \"nee\",\n",
            "    \"Toelichting craniofaciale abnormaliteiten\": \"\",\n",
            "    \"Mallampatti\": \"mallampati 1\",\n",
            "    \"Gebitsstatus\": \"natuurlijke tanden, geen prothese\",\n",
            "    \"Geschat mogelijk lastige intubatie\": \"nee\",\n",
            "    \"Toelichting\": \"\",\n",
            "    \"Overig lichamelijk onderzoek\": \"\",\n",
            "    \"Medicatie die op OK-dag niet moet worden gegeven\": \"\",\n",
            "    \"Patiënt is geinformeerd over de voorgestelde vorm van anesthesie\": \"ja\",\n",
            "    \"Patiënt gaat akkoord met de voorgestelde vorm van anesthesie\": \"ja\",\n",
            "    \"Informed consent tandschade\": \"ja\",\n",
            "    \"Informed consent anesthesioloog op polikliniek is niet degene op OK\": \"ja\",\n",
            "    \"Mogen artsen u een bloedtransfusie geven als dit nodig is tijdens uw behandeling?\": \"ja\",\n",
            "    \"Gebruik van bloedproducten is besproken\": \"ja\",\n",
            "    \"Informed consent gebruik bloedproducten\": \"ja\",\n",
            "    \"ASA-score\": \"1\",\n",
            "    \"Afgesproken anesthesietechniek\": \"A10\",\n",
            "    \"Low/intermediate/high risk OK\": \"low risk\",\n",
            "    \"Aanbevolen OK-monitoring\": \"5-lead ECG\",\n",
            "    \"Aanvullende informatie die mogelijk relevant is voor de anesthesie\": \"\",\n",
            "    \"Eindconclusie screening\": \"35 jarige vrouw\\nScreening ivm niet gespecificeerde ingreep\\n\\nVoorgeschiedenis:\\n- cardiaal blanco\\n\\nMedicatie/allergien:\\n- geen\\n\\nAandachtspunten:\\n- geen\\n\\nBesproken: misselijkheid/braken, pijn, luchtwegschade, algemene cardio/pulm risico's, nuchter.\"\n",
            "}\n",
            "```\n"
          ]
        }
      ]
    },
    {
      "cell_type": "code",
      "source": [
        "# # Zoek naar file_id in de assistant's response\n",
        "# if run.status == 'completed':\n",
        "#   print(\"Run completed...\")\n",
        "#   for message in messages:\n",
        "#     if message.role == \"assistant\":\n",
        "#         for attachment in message.attachments:\n",
        "#             print(\"Downloading...\")\n",
        "#             file_id = attachment.file_id\n",
        "#             file_data = client.files.content(file_id)\n",
        "#             file_data_bytes = file_data.read()\n",
        "#             with open('/tmp/generated_report.xlsx', \"wb\") as file:\n",
        "#                 file.write(file_data_bytes)\n",
        "# from google.colab import files\n",
        "# files.download('/tmp/generated_report.xlsx')"
      ],
      "metadata": {
        "id": "Zk2drJqJ4_he"
      },
      "execution_count": null,
      "outputs": []
    }
  ]
}